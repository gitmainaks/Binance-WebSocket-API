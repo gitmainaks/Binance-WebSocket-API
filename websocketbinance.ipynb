{
  "nbformat": 4,
  "nbformat_minor": 0,
  "metadata": {
    "colab": {
      "name": "websocketbinance.ipynb",
      "provenance": [],
      "authorship_tag": "ABX9TyMvYRghRJmeTpn7MARbUj0Q",
      "include_colab_link": true
    },
    "kernelspec": {
      "name": "python3",
      "display_name": "Python 3"
    },
    "language_info": {
      "name": "python"
    }
  },
  "cells": [
    {
      "cell_type": "markdown",
      "metadata": {
        "id": "view-in-github",
        "colab_type": "text"
      },
      "source": [
        "<a href=\"https://colab.research.google.com/github/gitmainaks/Binance-WebSocket-API/blob/main/websocketbinance.ipynb\" target=\"_parent\"><img src=\"https://colab.research.google.com/assets/colab-badge.svg\" alt=\"Open In Colab\"/></a>"
      ]
    },
    {
      "cell_type": "code",
      "execution_count": 68,
      "metadata": {
        "id": "uh43mHCko57-",
        "colab": {
          "base_uri": "https://localhost:8080/"
        },
        "outputId": "b792e0d7-4041-459b-f66a-4225461fbd07"
      },
      "outputs": [
        {
          "output_type": "stream",
          "name": "stdout",
          "text": [
            "Requirement already satisfied: websocket-client in /usr/local/lib/python3.7/dist-packages (1.2.3)\n"
          ]
        }
      ],
      "source": [
        "pip install websocket-client"
      ]
    },
    {
      "cell_type": "code",
      "source": [
        "import websocket, json"
      ],
      "metadata": {
        "id": "SQoVSNI5qOnf"
      },
      "execution_count": 69,
      "outputs": []
    },
    {
      "cell_type": "code",
      "source": [
        "cc = 'btcusd'\n",
        "interval = '1m'"
      ],
      "metadata": {
        "id": "POIb3LUFrbp0"
      },
      "execution_count": 70,
      "outputs": []
    },
    {
      "cell_type": "code",
      "source": [
        "socket = f'wss://stream.binance.com:9443/ws/{cc}t@kline_{interval}'"
      ],
      "metadata": {
        "id": "z2Aap02BqW4f"
      },
      "execution_count": 71,
      "outputs": []
    },
    {
      "cell_type": "code",
      "source": [
        "socket"
      ],
      "metadata": {
        "colab": {
          "base_uri": "https://localhost:8080/",
          "height": 35
        },
        "id": "xnNGP1XtsLOq",
        "outputId": "ec63c7ea-b8a7-4259-c80f-480d2618e616"
      },
      "execution_count": 72,
      "outputs": [
        {
          "output_type": "execute_result",
          "data": {
            "application/vnd.google.colaboratory.intrinsic+json": {
              "type": "string"
            },
            "text/plain": [
              "'wss://stream.binance.com:9443/ws/btcusdt@kline_1m'"
            ]
          },
          "metadata": {},
          "execution_count": 72
        }
      ]
    },
    {
      "cell_type": "code",
      "source": [
        "def on_message(ws, message):\n",
        "    print(message)\n",
        "\n",
        "def on_close(ws, close_status_code, close_msg):\n",
        "    print(\"Connection Closed\")\n",
        "\n",
        "\n",
        "\n",
        "ws = websocket.WebSocketApp(socket, on_message=on_message, on_close = on_close)\n"
      ],
      "metadata": {
        "id": "LuswEelAsOLf"
      },
      "execution_count": 73,
      "outputs": []
    },
    {
      "cell_type": "code",
      "source": [
        "ws.run_forever()"
      ],
      "metadata": {
        "colab": {
          "base_uri": "https://localhost:8080/"
        },
        "id": "otbE-eYhwMNm",
        "outputId": "b7409793-d9a9-47a6-fce2-a03399f62bc4"
      },
      "execution_count": 74,
      "outputs": [
        {
          "output_type": "stream",
          "name": "stdout",
          "text": [
            "{\"e\":\"kline\",\"E\":1644604475046,\"s\":\"BTCUSDT\",\"k\":{\"t\":1644604440000,\"T\":1644604499999,\"s\":\"BTCUSDT\",\"i\":\"1m\",\"f\":1254837682,\"L\":1254838132,\"o\":\"43197.46000000\",\"c\":\"43220.10000000\",\"h\":\"43240.00000000\",\"l\":\"43175.10000000\",\"v\":\"13.09397000\",\"n\":451,\"x\":false,\"q\":\"565762.29097820\",\"V\":\"5.77031000\",\"Q\":\"249329.91626310\",\"B\":\"0\"}}\n",
            "{\"e\":\"kline\",\"E\":1644604477363,\"s\":\"BTCUSDT\",\"k\":{\"t\":1644604440000,\"T\":1644604499999,\"s\":\"BTCUSDT\",\"i\":\"1m\",\"f\":1254837682,\"L\":1254838143,\"o\":\"43197.46000000\",\"c\":\"43221.55000000\",\"h\":\"43240.00000000\",\"l\":\"43175.10000000\",\"v\":\"13.20629000\",\"n\":462,\"x\":false,\"q\":\"570616.95243240\",\"V\":\"5.85705000\",\"Q\":\"253078.97072410\",\"B\":\"0\"}}\n",
            "{\"e\":\"kline\",\"E\":1644604479374,\"s\":\"BTCUSDT\",\"k\":{\"t\":1644604440000,\"T\":1644604499999,\"s\":\"BTCUSDT\",\"i\":\"1m\",\"f\":1254837682,\"L\":1254838156,\"o\":\"43197.46000000\",\"c\":\"43218.37000000\",\"h\":\"43240.00000000\",\"l\":\"43175.10000000\",\"v\":\"13.51125000\",\"n\":475,\"x\":false,\"q\":\"583797.64037030\",\"V\":\"6.08928000\",\"Q\":\"263116.28781960\",\"B\":\"0\"}}\n",
            "Connection Closed\n"
          ]
        },
        {
          "output_type": "execute_result",
          "data": {
            "text/plain": [
              "False"
            ]
          },
          "metadata": {},
          "execution_count": 74
        }
      ]
    },
    {
      "cell_type": "code",
      "source": [
        "# making candlesticks"
      ],
      "metadata": {
        "id": "PCgVMOpYsPAo"
      },
      "execution_count": 75,
      "outputs": []
    },
    {
      "cell_type": "code",
      "source": [
        "def on_message(ws, message):\n",
        "    json_message = json.loads(message)\n",
        "    candle = json_message['k']\n",
        "    is_candle_closed = candle['x']\n",
        "    close = candle['c']\n",
        "    high = candle['h']\n",
        "    low = candle['l']\n",
        "    vol = candle['v']\n",
        "\n",
        "    print(close)\n",
        "    print(high)\n",
        "    print(low)\n",
        "    print(vol)\n",
        "\n",
        "def on_close(ws, close_status_code, close_msg):\n",
        "    print(\"Connection Closed\")\n",
        "\n",
        "\n",
        "\n",
        "ws = websocket.WebSocketApp(socket, on_message=on_message, on_close = on_close)"
      ],
      "metadata": {
        "id": "DFWtTqyDsPHf"
      },
      "execution_count": 76,
      "outputs": []
    },
    {
      "cell_type": "code",
      "source": [
        "ws.run_forever()"
      ],
      "metadata": {
        "colab": {
          "base_uri": "https://localhost:8080/"
        },
        "id": "kqknKjnnsOgm",
        "outputId": "3deaab4e-21d0-4c11-f1f8-a015a87b7ce6"
      },
      "execution_count": 77,
      "outputs": [
        {
          "output_type": "stream",
          "name": "stdout",
          "text": [
            "43230.55000000\n",
            "43240.00000000\n",
            "43175.10000000\n",
            "16.13567000\n",
            "43230.56000000\n",
            "43240.00000000\n",
            "43175.10000000\n",
            "16.46780000\n",
            "43202.10000000\n",
            "43240.00000000\n",
            "43175.10000000\n",
            "20.24903000\n",
            "Connection Closed\n"
          ]
        },
        {
          "output_type": "execute_result",
          "data": {
            "text/plain": [
              "False"
            ]
          },
          "metadata": {},
          "execution_count": 77
        }
      ]
    },
    {
      "cell_type": "code",
      "source": [
        "closes, highs, lows = [], [], []"
      ],
      "metadata": {
        "id": "EZRB3EPzElyc"
      },
      "execution_count": 79,
      "outputs": []
    },
    {
      "cell_type": "code",
      "source": [
        "def on_message(ws, message):\n",
        "    json_message = json.loads(message)\n",
        "    candle = json_message['k']\n",
        "    is_candle_closed = candle['x']\n",
        "    close = candle['c']\n",
        "    high = candle['h']\n",
        "    low = candle['l']\n",
        "    vol = candle['v']\n",
        "\n",
        "    if is_candle_closed:\n",
        "      closes.append(float(close))\n",
        "      highs.append(float(high))\n",
        "      lows.append(float(low))\n",
        "\n",
        "      print(closes)\n",
        "      print(highs)\n",
        "      print(lows)\n",
        "\n",
        "def on_close(ws):\n",
        "    print(\"Connection Closed\")\n",
        "\n",
        "ws = websocket.WebSocketApp(socket, on_message=on_message, on_close = on_close)    "
      ],
      "metadata": {
        "id": "r4ZKL9J7sPTd"
      },
      "execution_count": 80,
      "outputs": []
    },
    {
      "cell_type": "code",
      "source": [
        "ws.run_forever()"
      ],
      "metadata": {
        "id": "lVHls03NsPZp",
        "colab": {
          "base_uri": "https://localhost:8080/"
        },
        "outputId": "9eca8d49-1909-4747-c75d-8767d22aa5a1"
      },
      "execution_count": 81,
      "outputs": [
        {
          "output_type": "stream",
          "name": "stdout",
          "text": [
            "[43045.53]\n",
            "[43167.17]\n",
            "[43038.84]\n",
            "[43045.53, 43058.79]\n",
            "[43167.17, 43091.93]\n",
            "[43038.84, 43024.31]\n",
            "[43045.53, 43058.79, 42942.64]\n",
            "[43167.17, 43091.93, 43063.6]\n",
            "[43038.84, 43024.31, 42931.18]\n",
            "[43045.53, 43058.79, 42942.64, 42967.34]\n",
            "[43167.17, 43091.93, 43063.6, 43041.25]\n",
            "[43038.84, 43024.31, 42931.18, 42932.03]\n",
            "[43045.53, 43058.79, 42942.64, 42967.34, 42973.83]\n",
            "[43167.17, 43091.93, 43063.6, 43041.25, 43013.73]\n",
            "[43038.84, 43024.31, 42931.18, 42932.03, 42955.09]\n"
          ]
        },
        {
          "output_type": "execute_result",
          "data": {
            "text/plain": [
              "False"
            ]
          },
          "metadata": {},
          "execution_count": 81
        }
      ]
    },
    {
      "cell_type": "code",
      "source": [
        ""
      ],
      "metadata": {
        "id": "GgiavAmF_92O"
      },
      "execution_count": null,
      "outputs": []
    },
    {
      "cell_type": "code",
      "source": [
        ""
      ],
      "metadata": {
        "id": "cFiGNlLnsPfe"
      },
      "execution_count": null,
      "outputs": []
    },
    {
      "cell_type": "code",
      "source": [
        ""
      ],
      "metadata": {
        "id": "hM6XUDGJsPlq"
      },
      "execution_count": null,
      "outputs": []
    },
    {
      "cell_type": "code",
      "source": [
        ""
      ],
      "metadata": {
        "id": "40zzJkIzsPrm"
      },
      "execution_count": null,
      "outputs": []
    },
    {
      "cell_type": "code",
      "source": [
        ""
      ],
      "metadata": {
        "id": "EVECq3q9sPxa"
      },
      "execution_count": null,
      "outputs": []
    },
    {
      "cell_type": "code",
      "source": [
        ""
      ],
      "metadata": {
        "id": "UhceUgSOsP20"
      },
      "execution_count": null,
      "outputs": []
    },
    {
      "cell_type": "code",
      "source": [
        ""
      ],
      "metadata": {
        "id": "uqJo2BbqsP8C"
      },
      "execution_count": null,
      "outputs": []
    },
    {
      "cell_type": "code",
      "source": [
        ""
      ],
      "metadata": {
        "id": "c0khz8E7sQBf"
      },
      "execution_count": null,
      "outputs": []
    }
  ]
}